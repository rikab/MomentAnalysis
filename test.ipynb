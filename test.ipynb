{
 "cells": [
  {
   "cell_type": "code",
   "execution_count": 1,
   "metadata": {},
   "outputs": [
    {
     "name": "stderr",
     "output_type": "stream",
     "text": [
      "2023-09-10 22:41:24.673675: I tensorflow/core/util/port.cc:110] oneDNN custom operations are on. You may see slightly different numerical results due to floating-point round-off errors from different computation orders. To turn them off, set the environment variable `TF_ENABLE_ONEDNN_OPTS=0`.\n",
      "2023-09-10 22:41:24.674933: I tensorflow/tsl/cuda/cudart_stub.cc:28] Could not find cuda drivers on your machine, GPU will not be used.\n",
      "2023-09-10 22:41:24.700722: I tensorflow/tsl/cuda/cudart_stub.cc:28] Could not find cuda drivers on your machine, GPU will not be used.\n",
      "2023-09-10 22:41:24.701351: I tensorflow/core/platform/cpu_feature_guard.cc:182] This TensorFlow binary is optimized to use available CPU instructions in performance-critical operations.\n",
      "To enable the following instructions: AVX2 AVX_VNNI FMA, in other operations, rebuild TensorFlow with the appropriate compiler flags.\n",
      "2023-09-10 22:41:25.137716: W tensorflow/compiler/tf2tensorrt/utils/py_utils.cc:38] TF-TRT Warning: Could not find TensorRT\n",
      "/home/rikab/Documents/Research/MomentAnalysis/energyflow/archs/__init__.py:30: UserWarning: could not import some architectures - cannot import name 'cnn' from partially initialized module 'energyflow.archs' (most likely due to a circular import) (/home/rikab/Documents/Research/MomentAnalysis/energyflow/archs/__init__.py)\n",
      "  warnings.warn('could not import some architectures - ' + str(e))\n",
      "/home/rikab/Documents/Research/MomentAnalysis/energyflow/archs/__init__.py:40: UserWarning: could not import some architectures - cannot import name 'linear' from partially initialized module 'energyflow.archs' (most likely due to a circular import) (/home/rikab/Documents/Research/MomentAnalysis/energyflow/archs/__init__.py)\n",
      "  warnings.warn('could not import some architectures - ' + str(e))\n"
     ]
    },
    {
     "name": "stdout",
     "output_type": "stream",
     "text": [
      "Num GPUs Available:  0\n",
      "GPUs Available:  []\n"
     ]
    }
   ],
   "source": [
    "from energyflow.archs.moment import EFN_moment, PFN_moment\n",
    "from energyflow.archs.moment_layers import Moment\n",
    "from sklearn.metrics import roc_auc_score\n",
    "from utils.data_utils import load_data\n",
    "try:\n",
    "    from config import base_dir\n",
    "except:\n",
    "    raise ValueError(\"Please specify a base analysis directory, base_dir, in config.py!\")\n",
    "\n",
    "import numpy as np\n",
    "import matplotlib.pyplot as plt\n",
    "import tensorflow as tf\n",
    "import sys\n",
    "import os\n",
    "import scipy.special\n",
    "\n",
    "print(\"Num GPUs Available: \", len(tf.config.list_physical_devices('GPU')))\n",
    "print(\"GPUs Available: \", tf.config.list_physical_devices('GPU'))"
   ]
  },
  {
   "cell_type": "code",
   "execution_count": null,
   "metadata": {},
   "outputs": [],
   "source": []
  },
  {
   "cell_type": "code",
   "execution_count": null,
   "metadata": {},
   "outputs": [],
   "source": []
  },
  {
   "cell_type": "code",
   "execution_count": null,
   "metadata": {},
   "outputs": [],
   "source": []
  },
  {
   "cell_type": "code",
   "execution_count": null,
   "metadata": {},
   "outputs": [],
   "source": []
  },
  {
   "cell_type": "code",
   "execution_count": null,
   "metadata": {},
   "outputs": [],
   "source": []
  },
  {
   "cell_type": "code",
   "execution_count": null,
   "metadata": {},
   "outputs": [],
   "source": []
  },
  {
   "cell_type": "code",
   "execution_count": null,
   "metadata": {},
   "outputs": [],
   "source": []
  },
  {
   "cell_type": "code",
   "execution_count": null,
   "metadata": {},
   "outputs": [],
   "source": []
  },
  {
   "cell_type": "code",
   "execution_count": null,
   "metadata": {},
   "outputs": [],
   "source": []
  },
  {
   "cell_type": "code",
   "execution_count": null,
   "metadata": {},
   "outputs": [],
   "source": []
  },
  {
   "cell_type": "code",
   "execution_count": null,
   "metadata": {},
   "outputs": [],
   "source": []
  },
  {
   "cell_type": "code",
   "execution_count": null,
   "metadata": {},
   "outputs": [],
   "source": []
  },
  {
   "cell_type": "code",
   "execution_count": null,
   "metadata": {},
   "outputs": [],
   "source": []
  },
  {
   "cell_type": "code",
   "execution_count": null,
   "metadata": {},
   "outputs": [],
   "source": []
  },
  {
   "cell_type": "code",
   "execution_count": null,
   "metadata": {},
   "outputs": [],
   "source": []
  },
  {
   "cell_type": "code",
   "execution_count": null,
   "metadata": {},
   "outputs": [],
   "source": []
  },
  {
   "cell_type": "code",
   "execution_count": null,
   "metadata": {},
   "outputs": [],
   "source": []
  },
  {
   "cell_type": "code",
   "execution_count": null,
   "metadata": {},
   "outputs": [],
   "source": []
  },
  {
   "cell_type": "code",
   "execution_count": null,
   "metadata": {},
   "outputs": [],
   "source": []
  },
  {
   "cell_type": "code",
   "execution_count": null,
   "metadata": {},
   "outputs": [],
   "source": []
  },
  {
   "cell_type": "code",
   "execution_count": null,
   "metadata": {},
   "outputs": [],
   "source": []
  },
  {
   "cell_type": "code",
   "execution_count": null,
   "metadata": {},
   "outputs": [],
   "source": []
  },
  {
   "cell_type": "code",
   "execution_count": null,
   "metadata": {},
   "outputs": [],
   "source": []
  },
  {
   "cell_type": "code",
   "execution_count": null,
   "metadata": {},
   "outputs": [],
   "source": []
  },
  {
   "cell_type": "code",
   "execution_count": null,
   "metadata": {},
   "outputs": [],
   "source": []
  },
  {
   "cell_type": "code",
   "execution_count": null,
   "metadata": {},
   "outputs": [],
   "source": []
  },
  {
   "cell_type": "code",
   "execution_count": null,
   "metadata": {},
   "outputs": [],
   "source": []
  },
  {
   "cell_type": "code",
   "execution_count": null,
   "metadata": {},
   "outputs": [],
   "source": []
  },
  {
   "cell_type": "code",
   "execution_count": null,
   "metadata": {},
   "outputs": [],
   "source": []
  },
  {
   "cell_type": "code",
   "execution_count": null,
   "metadata": {},
   "outputs": [],
   "source": []
  },
  {
   "cell_type": "code",
   "execution_count": null,
   "metadata": {},
   "outputs": [],
   "source": []
  },
  {
   "cell_type": "code",
   "execution_count": null,
   "metadata": {},
   "outputs": [],
   "source": []
  },
  {
   "cell_type": "code",
   "execution_count": null,
   "metadata": {},
   "outputs": [],
   "source": []
  },
  {
   "cell_type": "code",
   "execution_count": null,
   "metadata": {},
   "outputs": [],
   "source": []
  },
  {
   "cell_type": "code",
   "execution_count": null,
   "metadata": {},
   "outputs": [],
   "source": []
  },
  {
   "cell_type": "code",
   "execution_count": null,
   "metadata": {},
   "outputs": [],
   "source": []
  },
  {
   "cell_type": "code",
   "execution_count": null,
   "metadata": {},
   "outputs": [],
   "source": []
  },
  {
   "cell_type": "code",
   "execution_count": null,
   "metadata": {},
   "outputs": [],
   "source": []
  },
  {
   "cell_type": "code",
   "execution_count": null,
   "metadata": {},
   "outputs": [],
   "source": []
  },
  {
   "cell_type": "code",
   "execution_count": null,
   "metadata": {},
   "outputs": [],
   "source": []
  },
  {
   "cell_type": "code",
   "execution_count": null,
   "metadata": {},
   "outputs": [],
   "source": []
  },
  {
   "cell_type": "code",
   "execution_count": null,
   "metadata": {},
   "outputs": [],
   "source": []
  },
  {
   "cell_type": "code",
   "execution_count": null,
   "metadata": {},
   "outputs": [],
   "source": []
  },
  {
   "cell_type": "code",
   "execution_count": null,
   "metadata": {},
   "outputs": [],
   "source": []
  },
  {
   "cell_type": "code",
   "execution_count": null,
   "metadata": {},
   "outputs": [],
   "source": []
  },
  {
   "cell_type": "code",
   "execution_count": null,
   "metadata": {},
   "outputs": [],
   "source": []
  },
  {
   "cell_type": "code",
   "execution_count": null,
   "metadata": {},
   "outputs": [],
   "source": []
  },
  {
   "cell_type": "code",
   "execution_count": null,
   "metadata": {},
   "outputs": [],
   "source": []
  },
  {
   "cell_type": "code",
   "execution_count": null,
   "metadata": {},
   "outputs": [],
   "source": []
  },
  {
   "cell_type": "code",
   "execution_count": null,
   "metadata": {},
   "outputs": [],
   "source": []
  },
  {
   "cell_type": "code",
   "execution_count": null,
   "metadata": {},
   "outputs": [],
   "source": []
  },
  {
   "cell_type": "code",
   "execution_count": null,
   "metadata": {},
   "outputs": [],
   "source": []
  },
  {
   "cell_type": "code",
   "execution_count": null,
   "metadata": {},
   "outputs": [],
   "source": []
  },
  {
   "cell_type": "code",
   "execution_count": null,
   "metadata": {},
   "outputs": [],
   "source": []
  },
  {
   "cell_type": "code",
   "execution_count": null,
   "metadata": {},
   "outputs": [],
   "source": []
  },
  {
   "cell_type": "code",
   "execution_count": null,
   "metadata": {},
   "outputs": [],
   "source": []
  },
  {
   "cell_type": "code",
   "execution_count": null,
   "metadata": {},
   "outputs": [],
   "source": []
  },
  {
   "cell_type": "code",
   "execution_count": null,
   "metadata": {},
   "outputs": [],
   "source": []
  },
  {
   "cell_type": "code",
   "execution_count": null,
   "metadata": {},
   "outputs": [],
   "source": []
  },
  {
   "cell_type": "code",
   "execution_count": null,
   "metadata": {},
   "outputs": [],
   "source": []
  },
  {
   "cell_type": "code",
   "execution_count": null,
   "metadata": {},
   "outputs": [],
   "source": []
  },
  {
   "cell_type": "code",
   "execution_count": null,
   "metadata": {},
   "outputs": [],
   "source": []
  },
  {
   "cell_type": "code",
   "execution_count": null,
   "metadata": {},
   "outputs": [],
   "source": []
  },
  {
   "cell_type": "code",
   "execution_count": null,
   "metadata": {},
   "outputs": [],
   "source": []
  },
  {
   "cell_type": "code",
   "execution_count": null,
   "metadata": {},
   "outputs": [],
   "source": []
  },
  {
   "cell_type": "code",
   "execution_count": null,
   "metadata": {},
   "outputs": [],
   "source": []
  },
  {
   "cell_type": "code",
   "execution_count": null,
   "metadata": {},
   "outputs": [],
   "source": []
  },
  {
   "cell_type": "code",
   "execution_count": null,
   "metadata": {},
   "outputs": [],
   "source": []
  },
  {
   "cell_type": "code",
   "execution_count": null,
   "metadata": {},
   "outputs": [],
   "source": []
  },
  {
   "cell_type": "code",
   "execution_count": null,
   "metadata": {},
   "outputs": [],
   "source": []
  },
  {
   "cell_type": "code",
   "execution_count": null,
   "metadata": {},
   "outputs": [],
   "source": []
  },
  {
   "cell_type": "code",
   "execution_count": null,
   "metadata": {},
   "outputs": [],
   "source": []
  },
  {
   "cell_type": "code",
   "execution_count": null,
   "metadata": {},
   "outputs": [],
   "source": []
  },
  {
   "cell_type": "code",
   "execution_count": null,
   "metadata": {},
   "outputs": [],
   "source": []
  },
  {
   "cell_type": "code",
   "execution_count": null,
   "metadata": {},
   "outputs": [],
   "source": []
  },
  {
   "cell_type": "code",
   "execution_count": null,
   "metadata": {},
   "outputs": [],
   "source": []
  },
  {
   "cell_type": "code",
   "execution_count": null,
   "metadata": {},
   "outputs": [],
   "source": []
  },
  {
   "cell_type": "code",
   "execution_count": null,
   "metadata": {},
   "outputs": [],
   "source": []
  },
  {
   "cell_type": "code",
   "execution_count": null,
   "metadata": {},
   "outputs": [],
   "source": []
  },
  {
   "cell_type": "code",
   "execution_count": null,
   "metadata": {},
   "outputs": [],
   "source": []
  },
  {
   "cell_type": "code",
   "execution_count": null,
   "metadata": {},
   "outputs": [],
   "source": []
  },
  {
   "cell_type": "code",
   "execution_count": null,
   "metadata": {},
   "outputs": [],
   "source": []
  },
  {
   "cell_type": "code",
   "execution_count": null,
   "metadata": {},
   "outputs": [],
   "source": []
  },
  {
   "cell_type": "code",
   "execution_count": null,
   "metadata": {},
   "outputs": [],
   "source": []
  },
  {
   "cell_type": "code",
   "execution_count": null,
   "metadata": {},
   "outputs": [],
   "source": []
  },
  {
   "cell_type": "code",
   "execution_count": null,
   "metadata": {},
   "outputs": [],
   "source": []
  },
  {
   "cell_type": "code",
   "execution_count": null,
   "metadata": {},
   "outputs": [],
   "source": []
  },
  {
   "cell_type": "code",
   "execution_count": null,
   "metadata": {},
   "outputs": [],
   "source": []
  },
  {
   "cell_type": "code",
   "execution_count": null,
   "metadata": {},
   "outputs": [],
   "source": []
  },
  {
   "cell_type": "code",
   "execution_count": null,
   "metadata": {},
   "outputs": [],
   "source": []
  },
  {
   "cell_type": "code",
   "execution_count": 2,
   "metadata": {},
   "outputs": [
    {
     "name": "stdout",
     "output_type": "stream",
     "text": [
      "Data loaded!\n"
     ]
    }
   ],
   "source": [
    "# Turn off TEST_MODE to run on full dataset\n",
    "TEST_MODE = False\n",
    "\n",
    "# Parameters \n",
    "train = 10000\n",
    "val = 50000\n",
    "test = 50000\n",
    "Phi, F = 25, 25\n",
    "R = 0.4\n",
    "\n",
    "\n",
    "k_orders = [1, 2, 3, 4]\n",
    "colors = [\"red\", \"orange\", \"green\", \"blue\"]\n",
    "dataset = \"qg\"\n",
    "run_name = \"test\"\n",
    "is_EFN = True\n",
    "categorical = False # True to use one-hot encoding for labels\n",
    "\n",
    "num_models_to_train = 1\n",
    "\n",
    "\n",
    "\n",
    "# Load data\n",
    "(X_train, X_val, X_test,), (Y_train, Y_val, Y_test,) = load_data(dataset, train, val, test, \n",
    "                                                                 EFN_format=is_EFN, \n",
    "                                                                 categorical=categorical)\n",
    "print(\"Data loaded!\")\n"
   ]
  },
  {
   "cell_type": "code",
   "execution_count": 17,
   "metadata": {},
   "outputs": [],
   "source": [
    "\n",
    "def eval_filters(model, latent_dim, patch, n = 100):\n",
    "\n",
    "    input_t = model.layers[0].input\n",
    "    output_t = model.layers[6].output\n",
    "    print(input_t)\n",
    "    print(output_t)\n",
    "\n",
    "    func = tf.keras.backend.function(input_t, output_t)\n",
    "\n",
    "\n",
    "    xmin, ymin, xmax, ymax = -0, -0, R, 0.001\n",
    "    nx = ny = 100\n",
    "    xs, ys = np.linspace(xmin, xmax, nx), np.linspace(ymin, ymax, ny)\n",
    "    X, Y = np.meshgrid(xs, ys, indexing='ij')\n",
    "    XY = np.asarray([X, Y]).reshape((1, 2, nx*ny)).transpose((0, 2, 1))\n",
    "\n",
    "    Z = func(XY)[0].reshape(nx, ny, latent_dim).transpose((2, 0, 1))\n",
    "    Z = Z[np.any(Z, axis=(1,2))]\n",
    "\n",
    "    return X, Y, Z\n"
   ]
  },
  {
   "cell_type": "code",
   "execution_count": 21,
   "metadata": {},
   "outputs": [
    {
     "name": "stdout",
     "output_type": "stream",
     "text": [
      "Run directory:  Data/test/order_1\n",
      "[<keras.engine.input_layer.InputLayer object at 0x7f48338901c0>, <keras.layers.rnn.time_distributed.TimeDistributed object at 0x7f48338903d0>, <keras.layers.activation.leaky_relu.LeakyReLU object at 0x7f4833890d00>, <keras.layers.rnn.time_distributed.TimeDistributed object at 0x7f483389e070>, <keras.layers.activation.leaky_relu.LeakyReLU object at 0x7f483389e6a0>, <keras.layers.rnn.time_distributed.TimeDistributed object at 0x7f483389ea30>, <keras.layers.activation.leaky_relu.LeakyReLU object at 0x7f48338a90d0>, <keras.engine.input_layer.InputLayer object at 0x7f48338a9160>, <keras.layers.core.tf_op_layer.TFOpLambda object at 0x7f48338a9730>, <keras.layers.core.lambda_layer.Lambda object at 0x7f4833a2be20>, <energyflow.archs.moment_layers.Moment object at 0x7f48338a9b80>, <keras.layers.merging.dot.Dot object at 0x7f48338a9be0>, <keras.layers.core.dense.Dense object at 0x7f48338a9c70>, <keras.layers.activation.leaky_relu.LeakyReLU object at 0x7f48338ae370>, <keras.layers.core.dense.Dense object at 0x7f48338aeb20>, <keras.layers.activation.leaky_relu.LeakyReLU object at 0x7f48338b3100>, <keras.layers.core.dense.Dense object at 0x7f48338aec10>, <keras.layers.activation.leaky_relu.LeakyReLU object at 0x7f48338b33d0>, <keras.layers.core.dense.Dense object at 0x7f48338b3b20>, <keras.layers.core.activation.Activation object at 0x7f48338b3bb0>]\n",
      "1563/1563 [==============================] - 5s 3ms/step\n",
      "AUC:  0.744537620004178\n",
      "KerasTensor(type_spec=TensorSpec(shape=(None, None, 2), dtype=tf.float32, name='input_1'), name='input_1', description=\"created by layer 'input_1'\")\n",
      "KerasTensor(type_spec=TensorSpec(shape=(None, None, 1), dtype=tf.float32, name=None), name='leaky_re_lu_2/LeakyRelu:0', description=\"created by layer 'leaky_re_lu_2'\")\n",
      "-67.33340647781331 28.244630639346962 10.837982355798871\n",
      "Run directory:  Data/test/order_2\n",
      "[<keras.engine.input_layer.InputLayer object at 0x7f48337f11f0>, <keras.layers.rnn.time_distributed.TimeDistributed object at 0x7f48337f16a0>, <keras.layers.activation.leaky_relu.LeakyReLU object at 0x7f48337f1ca0>, <keras.layers.rnn.time_distributed.TimeDistributed object at 0x7f483377f070>, <keras.layers.activation.leaky_relu.LeakyReLU object at 0x7f483377f6d0>, <keras.layers.rnn.time_distributed.TimeDistributed object at 0x7f483377fa60>, <keras.layers.activation.leaky_relu.LeakyReLU object at 0x7f4833784100>, <keras.engine.input_layer.InputLayer object at 0x7f4833784190>, <keras.layers.core.tf_op_layer.TFOpLambda object at 0x7f4833784760>, <keras.layers.core.lambda_layer.Lambda object at 0x7f48337f10d0>, <energyflow.archs.moment_layers.Moment object at 0x7f4833784bb0>, <keras.layers.merging.dot.Dot object at 0x7f48338074f0>, <keras.layers.core.dense.Dense object at 0x7f4833807400>, <keras.layers.activation.leaky_relu.LeakyReLU object at 0x7f4833807490>, <keras.layers.core.dense.Dense object at 0x7f4833807670>, <keras.layers.activation.leaky_relu.LeakyReLU object at 0x7f483c14a520>, <keras.layers.core.dense.Dense object at 0x7f4833962130>, <keras.layers.activation.leaky_relu.LeakyReLU object at 0x7f483386f640>, <keras.layers.core.dense.Dense object at 0x7f48338b51f0>, <keras.layers.core.activation.Activation object at 0x7f483386f2b0>]\n",
      "1563/1563 [==============================] - 5s 3ms/step\n",
      "AUC:  0.7581226147573299\n",
      "KerasTensor(type_spec=TensorSpec(shape=(None, None, 2), dtype=tf.float32, name='input_1'), name='input_1', description=\"created by layer 'input_1'\")\n",
      "KerasTensor(type_spec=TensorSpec(shape=(None, None, 1), dtype=tf.float32, name=None), name='leaky_re_lu_2/LeakyRelu:0', description=\"created by layer 'leaky_re_lu_2'\")\n",
      "1.0943643256995574 0.13396812127193983 0.05667553619002377\n",
      "Run directory:  Data/test/order_3\n",
      "[<keras.engine.input_layer.InputLayer object at 0x7f48337a45e0>, <keras.layers.rnn.time_distributed.TimeDistributed object at 0x7f48337a4ca0>, <keras.layers.activation.leaky_relu.LeakyReLU object at 0x7f48337970a0>, <keras.layers.rnn.time_distributed.TimeDistributed object at 0x7f483378ef70>, <keras.layers.activation.leaky_relu.LeakyReLU object at 0x7f4833804ca0>, <keras.layers.rnn.time_distributed.TimeDistributed object at 0x7f4833804400>, <keras.layers.activation.leaky_relu.LeakyReLU object at 0x7f4833804040>, <keras.engine.input_layer.InputLayer object at 0x7f4833809dc0>, <keras.layers.core.tf_op_layer.TFOpLambda object at 0x7f4833809bb0>, <keras.layers.core.lambda_layer.Lambda object at 0x7f48337a4160>, <energyflow.archs.moment_layers.Moment object at 0x7f48337b57c0>, <keras.layers.merging.dot.Dot object at 0x7f483377d2b0>, <keras.layers.core.dense.Dense object at 0x7f48337b5400>, <keras.layers.activation.leaky_relu.LeakyReLU object at 0x7f4832f2b340>, <keras.layers.core.dense.Dense object at 0x7f4832f18df0>, <keras.layers.activation.leaky_relu.LeakyReLU object at 0x7f4832f2b610>, <keras.layers.core.dense.Dense object at 0x7f4832f2bd60>, <keras.layers.activation.leaky_relu.LeakyReLU object at 0x7f4832f2f340>, <keras.layers.core.dense.Dense object at 0x7f4832f2be50>, <keras.layers.core.activation.Activation object at 0x7f4832f2f610>]\n",
      "1563/1563 [==============================] - 2s 1ms/step\n",
      "AUC:  0.7737710166012605\n",
      "KerasTensor(type_spec=TensorSpec(shape=(None, None, 2), dtype=tf.float32, name='input_1'), name='input_1', description=\"created by layer 'input_1'\")\n",
      "KerasTensor(type_spec=TensorSpec(shape=(None, None, 1), dtype=tf.float32, name=None), name='leaky_re_lu_2/LeakyRelu:0', description=\"created by layer 'leaky_re_lu_2'\")\n",
      "-48.28651621457583 22.212068873190084 8.796506244606508\n",
      "Run directory:  Data/test/order_4\n",
      "[<keras.engine.input_layer.InputLayer object at 0x7f48336e4730>, <keras.layers.rnn.time_distributed.TimeDistributed object at 0x7f4833640130>, <keras.layers.activation.leaky_relu.LeakyReLU object at 0x7f48336406d0>, <keras.layers.rnn.time_distributed.TimeDistributed object at 0x7f4833640a60>, <keras.layers.activation.leaky_relu.LeakyReLU object at 0x7f483364d100>, <keras.layers.rnn.time_distributed.TimeDistributed object at 0x7f483364d490>, <keras.layers.activation.leaky_relu.LeakyReLU object at 0x7f483364db50>, <keras.engine.input_layer.InputLayer object at 0x7f483364dac0>, <keras.layers.core.tf_op_layer.TFOpLambda object at 0x7f483364ddf0>, <keras.layers.core.lambda_layer.Lambda object at 0x7f48336d9f40>, <energyflow.archs.moment_layers.Moment object at 0x7f4833653520>, <keras.layers.merging.dot.Dot object at 0x7f4833653580>, <keras.layers.core.dense.Dense object at 0x7f4833653f10>, <keras.layers.activation.leaky_relu.LeakyReLU object at 0x7f4833659040>, <keras.layers.core.dense.Dense object at 0x7f4833653fa0>, <keras.layers.activation.leaky_relu.LeakyReLU object at 0x7f4833659820>, <keras.layers.core.dense.Dense object at 0x7f4833659f70>, <keras.layers.activation.leaky_relu.LeakyReLU object at 0x7f483365d070>, <keras.layers.core.dense.Dense object at 0x7f483365d790>, <keras.layers.core.activation.Activation object at 0x7f483365d820>]\n",
      "1563/1563 [==============================] - 2s 1ms/step\n",
      "AUC:  0.7742943110197305\n",
      "KerasTensor(type_spec=TensorSpec(shape=(None, None, 2), dtype=tf.float32, name='input_1'), name='input_1', description=\"created by layer 'input_1'\")\n",
      "KerasTensor(type_spec=TensorSpec(shape=(None, None, 1), dtype=tf.float32, name=None), name='leaky_re_lu_2/LeakyRelu:0', description=\"created by layer 'leaky_re_lu_2'\")\n",
      "-1.9701638670125703 4.221882149394185 1.6166304310216235\n"
     ]
    },
    {
     "data": {
      "image/png": "[encoded data removed]",
      "text/plain": [
       "<Figure size 640x480 with 1 Axes>"
      ]
     },
     "metadata": {},
     "output_type": "display_data"
    }
   ],
   "source": [
    "\n",
    "\n",
    "for (i, k_order) in enumerate(k_orders):\n",
    "\n",
    "\n",
    "    # Directory Handling\n",
    "    run_dir = os.path.join(base_dir, \"Data\", run_name)\n",
    "    run_dir = os.path.join(run_dir, f\"order_{k_order}\")\n",
    "    model_dir = os.path.join(run_dir, \"Models\")\n",
    "    print(\"Run directory: \", run_dir)\n",
    "\n",
    "    configs = np.load(os.path.join(run_dir, \"configs.npy\"), allow_pickle=True)\n",
    "    config = configs[0]\n",
    "\n",
    "    \n",
    "    for j in range(num_models_to_train):\n",
    "\n",
    "        # Load Model\n",
    "        L = 1\n",
    "        model_name = f\"O{k_order}_L{L}_2Phi{Phi}_3F{F}_{j}.keras\"\n",
    "        model_filepath = os.path.join(model_dir , model_name)\n",
    "\n",
    "        # load model\n",
    "        model = tf.keras.models.load_model(model_filepath, custom_objects={'Moment': Moment})\n",
    "        print(model.layers)\n",
    "\n",
    "\n",
    "\n",
    "\n",
    "        # model = EFN_moment(**config, filepath = model_filepath, metrics =  ['acc', tf.keras.metrics.AUC()], summary=False)\n",
    "        # model.load_weights(filepath = model_filepath, by_name=True)\n",
    "\n",
    "        # Evaluate AUC\n",
    "        Y_pred = model.predict(X_test)\n",
    "        auc = roc_auc_score(Y_test, Y_pred)\n",
    "        print(\"AUC: \", auc)\n",
    "\n",
    "        # Evaluate Filter\n",
    "        X, Y, Z = eval_filters(model, latent_dim=L, patch = [0, 0, R, 0.000],n = 100)\n",
    "        z = Z[0]\n",
    "\n",
    "        # Perform log fit\n",
    "        x = X[:,0]\n",
    "        y = z[:,0] / np.max(np.abs(z[:,0]))\n",
    "        plt.plot(X[:,0], y, lw = 3, label = \"Latent Space\", color = colors[i])\n",
    "\n",
    "        a, b, c = scipy.optimize.curve_fit(lambda t,a,b,c: a+b*np.log(c + t),  x[0:],  y[0:], p0=[1,1,0.010], maxfev=5000)[0]\n",
    "        y_log = a + b*np.log(x + c)\n",
    "        print(a, b, c)\n",
    "        # b, a = np.polyfit(np.log(x[25:]), y[15:], 1)\n",
    "        plt.plot(x[0:], y_log[0:], color = \"darkblue\", alpha = 0.25, lw = 3, ls = \"--\", label = \"Fit: $c_1 + c_2$log$(c_3 + y)$\")\n",
    "        # print(Z)\n",
    "\n",
    "        # plt.text(0.375, 0.775-0.075*0, \"$c_1 = %.3f$\" % a, horizontalalignment='left', verticalalignment='center', transform=axes.transAxes)\n",
    "        # plt.text(0.375, 0.775-0.075*1, \"$c_2 = %.3f$\" % b, horizontalTruealignment='left', verticalalignment='center', transform=axes.transAxes)\n",
    "        # plt.text(0.375, 0.775-0.075*2, \"$c_3 = %.3f$\" % c, horizontalalignment='left', verticalalignment='center', transform=axes.transAxes)\n",
    "\n",
    "\n"
   ]
  },
  {
   "cell_type": "code",
   "execution_count": null,
   "metadata": {},
   "outputs": [],
   "source": []
  }
 ],
 "metadata": {
  "kernelspec": {
   "display_name": "tf2",
   "language": "python",
   "name": "python3"
  },
  "language_info": {
   "codemirror_mode": {
    "name": "ipython",
    "version": 3
   },
   "file_extension": ".py",
   "mimetype": "text/x-python",
   "name": "python",
   "nbconvert_exporter": "python",
   "pygments_lexer": "ipython3",
   "version": "3.8.2"
  },
  "orig_nbformat": 4
 },
 "nbformat": 4,
 "nbformat_minor": 2
}
