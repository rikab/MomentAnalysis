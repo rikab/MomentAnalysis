{
 "cells": [
  {
   "cell_type": "code",
   "execution_count": 1,
   "metadata": {},
   "outputs": [
    {
     "name": "stderr",
     "output_type": "stream",
     "text": [
      "2024-03-08 02:17:16.453871: W tensorflow/compiler/tf2tensorrt/utils/py_utils.cc:38] TF-TRT Warning: Could not find TensorRT\n",
      "No GPU/TPU found, falling back to CPU. (Set TF_CPP_MIN_LOG_LEVEL=0 and rerun for more info.)\n",
      "/home/rikab/miniconda3/envs/SHAPER/lib/python3.8/site-packages/ot/backend.py:2998: UserWarning: To use TensorflowBackend, you need to activate the tensorflow numpy API. You can activate it by running: \n",
      "from tensorflow.python.ops.numpy_ops import np_config\n",
      "np_config.enable_numpy_behavior()\n",
      "  register_backend(TensorflowBackend())\n",
      "/home/rikab/Documents/Research/MomentAnalysis/energyflow/archs/__init__.py:30: UserWarning: could not import some architectures - cannot import name 'cnn' from partially initialized module 'energyflow.archs' (most likely due to a circular import) (/home/rikab/Documents/Research/MomentAnalysis/energyflow/archs/__init__.py)\n",
      "  warnings.warn('could not import some architectures - ' + str(e))\n",
      "/home/rikab/Documents/Research/MomentAnalysis/energyflow/archs/__init__.py:40: UserWarning: could not import some architectures - cannot import name 'linear' from partially initialized module 'energyflow.archs' (most likely due to a circular import) (/home/rikab/Documents/Research/MomentAnalysis/energyflow/archs/__init__.py)\n",
      "  warnings.warn('could not import some architectures - ' + str(e))\n"
     ]
    },
    {
     "name": "stdout",
     "output_type": "stream",
     "text": [
      "Num GPUs Available:  0\n",
      "GPUs Available:  []\n"
     ]
    }
   ],
   "source": [
    "from ModelsContainer import ModelsContainer\n",
    "from numpy import average\n",
    "from energyflow.datasets import qg_jets\n",
    "from energyflow.utils import data_split, to_categorical\n",
    "from sklearn.metrics import roc_auc_score\n",
    "import toploader\n",
    "import numpy as np\n",
    "import matplotlib.pyplot as plt\n",
    "import tensorflow as tf\n",
    "import sys\n",
    "import os\n",
    "\n",
    "try:\n",
    "    from rikabplotlib.plot_utils import newplot, stamp, add_whitespace\n",
    "except ImportError:\n",
    "    from utils.plot_utils import newplot, stamp, add_whitespace\n",
    "    \n",
    "print(\"Num GPUs Available: \", len(tf.config.list_physical_devices('GPU')))\n",
    "print(\"GPUs Available: \", tf.config.list_physical_devices('GPU'))\n"
   ]
  },
  {
   "cell_type": "code",
   "execution_count": 2,
   "metadata": {},
   "outputs": [],
   "source": [
    "\n",
    "# Parameters\n",
    "train = 1#250000\n",
    "val = 1#10000\n",
    "test = 1#10000\n",
    "k_order = 2\n",
    "run_name = \"angularities\"\n",
    "dataset = \"qg\"\n",
    "\n",
    "# k_order = int(sys.argv[1]) \n",
    "# run_name = sys.argv[3]\n",
    "# dataset = sys.argv[2] # either \"qg\" or \"top\"\n",
    "\n",
    "\n",
    "epochs = 100\n",
    "batch_size=512\n",
    "callbacks =None\n",
    "verbose = 2\n",
    "\n",
    "\n",
    "num_models_to_train = 3 ##number of models to use to make error bars\n",
    "input_dim = 2\n",
    "output_dim = 1\n",
    "\n",
    "\n",
    "# Directory Handling\n",
    "base_dir = \"Data\"\n",
    "run_dir = os.path.join(base_dir, run_name)\n",
    "run_dir = os.path.join(run_dir, f\"order_{k_order}\")\n",
    "model_dir = os.path.join(run_dir, \"Models\")\n",
    "if not os.path.exists(run_dir):\n",
    "    os.makedirs(run_dir)\n",
    "    os.makedirs(model_dir, exist_ok=True)\n",
    "topdir = \"/n/holyscratch01/iaifi_lab/rikab/top\"\n"
   ]
  },
  {
   "cell_type": "code",
   "execution_count": 3,
   "metadata": {},
   "outputs": [
    {
     "name": "stdout",
     "output_type": "stream",
     "text": [
      "Data loaded!\n"
     ]
    }
   ],
   "source": [
    "if dataset == \"qg\":\n",
    "    X, Y = qg_jets.load(train+val+test)\n",
    "    X = X[:,:,:3].astype(np.float32)\n",
    "    for x in X:\n",
    "        mask = x[:,0] > 0\n",
    "        yphi_avg = average(x[mask,1:3], weights=x[mask,0], axis=0)\n",
    "        x[mask,1:3] -= yphi_avg\n",
    "        x[mask,0] /= x[:,0].sum()\n",
    "\n",
    "\n",
    "    Y = to_categorical(Y, num_classes=2)\n",
    "\n",
    "    (z_train, z_val, z_test,\n",
    "    p_train, p_val, p_test,\n",
    "    Y_train, Y_val, Y_test) = data_split(X[:,:,0], X[:,:,1:], Y, val=val, test=test)\n",
    "\n",
    "    X_train = [z_train, p_train]\n",
    "    X_val = [z_val, p_val]\n",
    "    X_test = [z_test, p_test]\n",
    "\n",
    "elif dataset == \"top\":\n",
    "    X_train, Y_train = toploader.load(cache_dir=topdir, dataset=\"train\", num_data = train)\n",
    "    X_test, Y_test = toploader.load(cache_dir=topdir, dataset=\"test\", num_data=test)\n",
    "    X_val, Y_val = toploader.load(cache_dir=topdir, dataset=\"val\", num_data=test)\n",
    "\n",
    "    def format(X):\n",
    "\n",
    "        for x in X:\n",
    "            mask = x[:,0] > 0\n",
    "            yphi_avg = average(x[mask,1:3], weights=x[mask,0], axis=0)\n",
    "            x[mask,1:3] -= yphi_avg\n",
    "            x[mask,0] /= x[:,0].sum()\n",
    "\n",
    "        return [X[:,:,0], X[:,:,1:3]]\n",
    "    \n",
    "    X_train = format(X_train)\n",
    "    X_test = format(X_test)\n",
    "    X_val = format(X_val)\n",
    "\n",
    "    Y_train = to_categorical(Y_train, num_classes=2)\n",
    "    Y_test = to_categorical(Y_test, num_classes=2)\n",
    "    Y_val = to_categorical(Y_val, num_classes=2)\n",
    "\n",
    "\n",
    "else:\n",
    "    raise ValueError(\"dataset must be either `top` or `qg`!\")\n",
    "\n",
    "\n",
    "print(\"Data loaded!\")"
   ]
  },
  {
   "cell_type": "code",
   "execution_count": 4,
   "metadata": {},
   "outputs": [],
   "source": [
    "def compute_angularities(events, beta = 2.0):\n",
    "\n",
    "    y = []\n",
    "    for x in events:\n",
    "        zs = x[:,0]\n",
    "        thetas = np.sqrt(np.sum(x[:,1:3] **2, axis = 1))\n",
    "        y.append(np.sum(zs * np.power(thetas, beta)))\n",
    "\n",
    "    return np.array(y)"
   ]
  },
  {
   "cell_type": "code",
   "execution_count": 5,
   "metadata": {},
   "outputs": [
    {
     "name": "stdout",
     "output_type": "stream",
     "text": [
      "Model: \"model\"\n",
      "__________________________________________________________________________________________________\n",
      " Layer (type)                   Output Shape         Param #     Connected to                     \n",
      "==================================================================================================\n",
      " input_1 (InputLayer)           [(None, None, 2)]    0           []                               \n",
      "                                                                                                  \n",
      " tdist0_0 (TimeDistributed)     (None, None, 2)      6           ['input_1[0][0]']                \n",
      "                                                                                                  \n",
      " activation (Activation)        (None, None, 2)      0           ['tdist0_0[0][0]']               \n",
      "                                                                                                  \n",
      " tdist0_1 (TimeDistributed)     (None, None, 2)      6           ['activation[0][0]']             \n",
      "                                                                                                  \n",
      " activation_1 (Activation)      (None, None, 2)      0           ['tdist0_1[0][0]']               \n",
      "                                                                                                  \n",
      " zs_input (InputLayer)          [(None, None)]       0           []                               \n",
      "                                                                                                  \n",
      " tf.identity (TFOpLambda)       (None, None, 2)      0           ['activation_1[0][0]']           \n",
      "                                                                                                  \n",
      " mask (Lambda)                  (None, None)         0           ['zs_input[0][0]']               \n",
      "                                                                                                  \n",
      " moment (Moment)                (None, None, 6)      0           ['tf.identity[0][0]']            \n",
      "                                                                                                  \n",
      " sum (Dot)                      (None, 6)            0           ['mask[0][0]',                   \n",
      "                                                                  'moment[0][0]']                 \n",
      "                                                                                                  \n",
      " dense_0 (Dense)                (None, 1)            7           ['sum[0][0]']                    \n",
      "                                                                                                  \n",
      " activation_2 (Activation)      (None, 1)            0           ['dense_0[0][0]']                \n",
      "                                                                                                  \n",
      " output (Dense)                 (None, 1)            2           ['activation_2[0][0]']           \n",
      "                                                                                                  \n",
      " activation_3 (Activation)      (None, 1)            0           ['output[0][0]']                 \n",
      "                                                                                                  \n",
      "==================================================================================================\n",
      "Total params: 21\n",
      "Trainable params: 21\n",
      "Non-trainable params: 0\n",
      "__________________________________________________________________________________________________\n",
      "\n",
      "\n"
     ]
    }
   ],
   "source": [
    "from energyflow.archs.moment import EFN_moment, PFN_moment\n",
    "\n",
    "k_order = 2\n",
    "model = EFN_moment(**{'Phi_mapping_dim' : [input_dim,2],\n",
    "                            'output_dim' : 1, 'output_act' : 'linear',\n",
    "                            'Phi_sizes' : [2,], 'Phi_acts' : 'linear', \"Phi_l1_regs\" :  0,\n",
    "                            'F_sizes' : [1,], 'F_acts': 'linear', \"F_l1_regs\" :  0,\n",
    "                            'order' : k_order , 'architecture_type':'moment',\n",
    "                            'loss': 'mse','metrics': 'mse'})\n",
    "print()\n",
    "print()\n",
    "\n",
    "angularities = compute_angularities(X, beta = 2.0)\n",
    "(z_train, z_val, z_test,\n",
    "    p_train, p_val, p_test,\n",
    "    Y_train, Y_val, Y_test) = data_split(X[:,:,0], X[:,:,1:], angularities, val=val, test=test)\n",
    "\n",
    "X_train = [z_train, p_train]\n",
    "X_val = [z_val, p_val]\n",
    "X_test = [z_test, p_test]\n"
   ]
  },
  {
   "cell_type": "code",
   "execution_count": 6,
   "metadata": {},
   "outputs": [],
   "source": [
    "model_name = f\"O{k_order}_L{2}_linear\"\n",
    "\n",
    "callback = tf.keras.callbacks.EarlyStopping(monitor='loss', patience=8)\n",
    "# history = model.fit(X_train, Y_train,\n",
    "#                     epochs = epochs, batch_size = batch_size,\n",
    "#                     validation_data = (X_val, Y_val),\n",
    "#                     callbacks=[callback], verbose=verbose,)\n",
    "\n",
    "# model.save_weights(os.path.join(model_dir , model_name+ f\"_{sample}.keras\"))\n"
   ]
  },
  {
   "cell_type": "code",
   "execution_count": 7,
   "metadata": {},
   "outputs": [
    {
     "name": "stdout",
     "output_type": "stream",
     "text": [
      "313/313 [==============================] - 0s 803us/step\n",
      "313/313 [==============================] - 0s 859us/step - loss: 0.0739 - mse: 0.0739\n",
      "0.07394726574420929\n"
     ]
    },
    {
     "data": {
      "image/png": "[encoded data removed]",
      "text/plain": [
       "<Figure size 640x480 with 1 Axes>"
      ]
     },
     "metadata": {},
     "output_type": "display_data"
    }
   ],
   "source": [
    "plt.hist(Y_test)\n",
    "plt.hist(model.predict(X_test))\n",
    "\n",
    "print(model.evaluate(X_test, Y_test)[0])"
   ]
  },
  {
   "cell_type": "markdown",
   "metadata": {},
   "source": [
    "# $\\beta$ Scan"
   ]
  },
  {
   "cell_type": "code",
   "execution_count": 8,
   "metadata": {},
   "outputs": [],
   "source": [
    "# # k_order = 4\n",
    "# for k_order in [1, 2, 3, 4]:\n",
    "#     print()\n",
    "#     losses = []\n",
    "#     for beta in np.linspace(0, 4, 25):\n",
    "#         model = EFN_moment(**{'Phi_mapping_dim' : [input_dim,2],\n",
    "#                                     'output_dim' : 1, 'output_act' : 'linear',\n",
    "#                                     'Phi_sizes' : [], 'Phi_acts' : 'linear', \"Phi_l1_regs\" :  0,\n",
    "#                                     'F_sizes' : [], 'F_acts': 'linear', \"F_l1_regs\" :  0,\n",
    "#                                     'order' : k_order , 'architecture_type':'moment',\n",
    "#                                     'loss': 'mse','metrics': 'mse'}, summary = False, bias = False)\n",
    "\n",
    "#         angularities = compute_angularities(X, beta)\n",
    "#         (z_train, z_val, z_test,\n",
    "#             p_train, p_val, p_test,\n",
    "#             Y_train, Y_val, Y_test) = data_split(X[:,:,0], X[:,:,1:], angularities, val=val, test=test)\n",
    "\n",
    "#         X_train = [z_train, p_train]\n",
    "#         X_val = [z_val, p_val]\n",
    "#         X_test = [z_test, p_test]\n",
    "\n",
    "#         callback = tf.keras.callbacks.EarlyStopping(monitor='loss', patience=8)\n",
    "#         history = model.fit(X_train, Y_train,\n",
    "#                             epochs = epochs, batch_size = batch_size,\n",
    "#                             validation_data = (X_val, Y_val),\n",
    "#                             callbacks=[callback], verbose=0,)\n",
    "        \n",
    "#         print(k_order, beta, model.evaluate(X_test, Y_test, verbose = 0)[1])\n",
    "#         losses.append(model.evaluate(X_test, Y_test, verbose = 0)[1])\n",
    "#     np.save(f\"Data_old/angularities/O{k_order}_losses_reg_3.npy\", np.array(losses))"
   ]
  },
  {
   "cell_type": "code",
   "execution_count": 10,
   "metadata": {},
   "outputs": [
    {
     "data": {
      "image/png": "[encoded data removed]",
      "text/plain": [
       "<Figure size 340.278x340.278 with 1 Axes>"
      ]
     },
     "metadata": {},
     "output_type": "display_data"
    }
   ],
   "source": [
    "fig, ax = newplot(\"column\")\n",
    "\n",
    "\n",
    "\n",
    "def mean_and_std(i):\n",
    "\n",
    "    means = []\n",
    "    stds = []\n",
    "\n",
    "    scores = []\n",
    "\n",
    "    start = 0 if i != 4 else 1\n",
    "    for run in range(start, 3):\n",
    "        scores.append(np.load(f\"Data_old/angularities/O{i}_losses_reg_{run}.npy\"))\n",
    "\n",
    "    scores = np.log(np.vstack(scores))\n",
    "\n",
    "    return np.exp(np.mean(scores, axis = 0)), np.exp(np.std(scores, axis = 0))\n",
    "\n",
    "\n",
    "\n",
    "\n",
    "losses_1 = np.load(\"Data_old/angularities/O1_losses_reg_0.npy\") /3\n",
    "losses_2 = np.load(\"Data_old/angularities/O2_losses_reg_0.npy\") /3\n",
    "losses_3 = np.load(\"Data_old/angularities/O3_losses_reg_0.npy\") /3\n",
    "losses_4 = np.load(\"Data_old/angularities/O4_losses_reg_0.npy\") /3 * 0\n",
    "\n",
    "for i in range(1,3):\n",
    "    losses_1 += np.load(f\"Data_old/angularities/O1_losses_reg_{i}.npy\") /3\n",
    "    losses_2 += np.load(f\"Data_old/angularities/O2_losses_reg_{i}.npy\") /3\n",
    "    losses_3 += np.load(f\"Data_old/angularities/O3_losses_reg_{i}.npy\") /3\n",
    "    losses_4 += np.load(f\"Data_old/angularities/O4_losses_reg_{i}.npy\") /2\n",
    "\n",
    "\n",
    "    \n",
    "\n",
    "beta = np.linspace(0, 4, 25)\n",
    "colors = [\"red\", \"orange\", \"green\", \"blue\"]\n",
    "for (i,k) in enumerate([1, 2, 3, 4]):\n",
    "\n",
    "    means, std = mean_and_std(k)\n",
    "    plt.plot(beta, means, color = colors[i], lw = 2, label = f\"$k = {k}$  \", alpha = 0.75)\n",
    "    # plt.plot(beta, losses_1, color = \"red\", label = r\"$k = 1$\", lw = 3)\n",
    "    # plt.plot(beta, losses_2, color = \"yellow\", label = r\"$k = 2$\", lw = 3)\n",
    "    # plt.plot(beta, losses_3, color = \"green\", label = r\"$k = 3$\", lw = 3)\n",
    "    # plt.plot(beta, losses_4, color = \"blue\", label = r\"$k = 4$\", lw = 3)\n",
    "\n",
    "plt.axvline(0, color = \"black\", alpha = 0.25, ls = \"--\")\n",
    "plt.axvline(2, color = \"black\", alpha = 0.25, ls = \"--\")\n",
    "plt.axvline(4, color = \"black\", alpha = 0.25, ls = \"--\")\n",
    "\n",
    "plt.yscale(\"log\")\n",
    "\n",
    "\n",
    "# Stamp\n",
    "add_whitespace(ax, upper_fraction=7)\n",
    "line_0 = \"QCD Angularities\"\n",
    "line_1 = r\"$\\textsc{PYTHIA}$ $8.230$, $\\sqrt{s} = 14$ TeV\"\n",
    "line_2 = \"$R = 0.4, p_T \\in [500, 550]$ GeV\"\n",
    "line_3 = r\"$L = 2$ Linear Moment EFNs\"\n",
    "stamp(0.05, 0.925, line_0 = line_0, line_1 = line_1, line_2 = line_2, line_3 = line_3, textops_update={\"fontsize\": 9})\n",
    "\n",
    "plt.xlabel(r\"$\\beta$\")\n",
    "plt.ylabel(\"MSE Loss\")\n",
    "# plt.title(r\"$L = 2$ Linear Moment EFNs\")\n",
    "plt.legend(frameon = False, loc = \"upper right\", fontsize = 9)\n",
    "plt.savefig(\"Plots/beta_plot.pdf\", bbox_inches = \"tight\")"
   ]
  },
  {
   "cell_type": "code",
   "execution_count": null,
   "metadata": {},
   "outputs": [],
   "source": []
  }
 ],
 "metadata": {
  "kernelspec": {
   "display_name": "SHAPER",
   "language": "python",
   "name": "python3"
  },
  "language_info": {
   "codemirror_mode": {
    "name": "ipython",
    "version": 3
   },
   "file_extension": ".py",
   "mimetype": "text/x-python",
   "name": "python",
   "nbconvert_exporter": "python",
   "pygments_lexer": "ipython3",
   "version": "3.8.2"
  },
  "orig_nbformat": 4
 },
 "nbformat": 4,
 "nbformat_minor": 2
}
